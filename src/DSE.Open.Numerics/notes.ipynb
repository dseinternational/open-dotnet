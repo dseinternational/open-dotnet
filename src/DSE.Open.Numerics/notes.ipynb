{
 "cells": [
  {
   "cell_type": "code",
   "execution_count": 1,
   "id": "38ac8d09",
   "metadata": {},
   "outputs": [],
   "source": [
    "import math\n",
    "import pandas as pd\n",
    "import numpy as np\n",
    "import torch"
   ]
  },
  {
   "cell_type": "markdown",
   "id": "b4ce80b7",
   "metadata": {},
   "source": [
    "### Missing data\n",
    "\n",
    "In Pandas, using `NA` for 'missing' gives consistent results, including with strings and data/times.\n",
    "\n",
    "> [The goal of NA is provide a “missing” indicator that can be used consistently across data types (instead of np.nan, None or pd.NaT depending on the data type).](https://pandas.pydata.org/docs/user_guide/missing_data.html#na-semantics)"
   ]
  },
  {
   "cell_type": "code",
   "execution_count": 2,
   "id": "1a423b67",
   "metadata": {},
   "outputs": [
    {
     "name": "stdout",
     "output_type": "stream",
     "text": [
      "Equality operator:\n",
      "0    True\n",
      "1    <NA>\n",
      "2    True\n",
      "3    <NA>\n",
      "4    True\n",
      "dtype: boolean\n",
      "\n",
      "Series.eq:\n",
      "0    True\n",
      "1    <NA>\n",
      "2    True\n",
      "3    <NA>\n",
      "4    True\n",
      "dtype: boolean\n",
      "\n",
      "Series.equals:\n",
      "False\n"
     ]
    }
   ],
   "source": [
    "s1 = pd.Series([\"1\", \"2\", \"3\", None, \"5\"], dtype=\"string\")\n",
    "s2 = pd.Series([\"1\", None, \"3\", None, \"5\"], dtype=\"string\")\n",
    "\n",
    "print(\"Equality operator:\")\n",
    "print(s1 == s2)\n",
    "print()\n",
    "print(\"Series.eq:\")\n",
    "print(pd.Series.eq(s1, s2))\n",
    "print()\n",
    "print(\"Series.equals:\")\n",
    "print(pd.Series.equals(s1, s2))"
   ]
  },
  {
   "cell_type": "markdown",
   "id": "d1f11a51",
   "metadata": {},
   "source": [
    "However, this is not the same as NumPy `nan`, Python floats or `math.nan`:"
   ]
  },
  {
   "cell_type": "code",
   "execution_count": 4,
   "id": "7dce74b7",
   "metadata": {},
   "outputs": [
    {
     "name": "stdout",
     "output_type": "stream",
     "text": [
      "pd.NA == pd.NA <NA>\n",
      "np.nan == np.nan False\n",
      "float('nan') == float('nan') False\n",
      "math.nan == math.nan False\n"
     ]
    }
   ],
   "source": [
    "print(f\"pd.NA == pd.NA {pd.NA == pd.NA}\")\n",
    "print(f\"np.nan == np.nan {np.nan == np.nan}\")\n",
    "print(f\"float('nan') == float('nan') {float('nan') == float('nan')}\")\n",
    "print(f\"math.nan == math.nan {math.nan == math.nan}\")"
   ]
  },
  {
   "cell_type": "markdown",
   "id": "17543561",
   "metadata": {},
   "source": [
    "...nor, .NET `float.NaN` - though this depends on use of operator `==` or `Equals()` (see [Equals method behavior change for NaN](https://learn.microsoft.com/en-us/dotnet/core/compatibility/core-libraries/7.0/equals-nan)):\n",
    "\n",
    "```c#\n",
    "Console.WriteLine($\"float.NaN == float.NaN {float.NaN == float.NaN}\");\n",
    "Console.WriteLine($\"float.NaN.Equals(float.NaN) {float.NaN.Equals(float.NaN)}\");\n",
    "```\n",
    "\n",
    "```\n",
    "float.NaN == float.NaN False\n",
    "```"
   ]
  },
  {
   "cell_type": "code",
   "execution_count": 5,
   "id": "7cc85ecb",
   "metadata": {},
   "outputs": [
    {
     "name": "stdout",
     "output_type": "stream",
     "text": [
      "True\n",
      "False\n"
     ]
    }
   ],
   "source": [
    "print(torch.equal(torch.tensor([1, 2]), torch.tensor([1, 2])))\n",
    "\n",
    "print(torch.equal(torch.tensor([3, torch.nan]), torch.tensor([3, torch.nan])))"
   ]
  },
  {
   "cell_type": "markdown",
   "id": "9b1307c1",
   "metadata": {},
   "source": [
    "With .NET `TensorPrimitives.Sum` - \"If any of the values in the input is equal to <see cref=\"IFloatingPointIeee754{TSelf}.NaN\"/>, the result is also NaN.\"\n",
    "\n",
    "### Pandas Series.equals\n",
    "\n",
    "Returns `true` if the 'same':"
   ]
  },
  {
   "cell_type": "code",
   "execution_count": 3,
   "id": "228d3021",
   "metadata": {},
   "outputs": [
    {
     "name": "stdout",
     "output_type": "stream",
     "text": [
      "Equality operator:\n",
      "0    True\n",
      "1    <NA>\n",
      "2    True\n",
      "3    <NA>\n",
      "4    True\n",
      "dtype: boolean\n",
      "\n",
      "Series.eq:\n",
      "0    True\n",
      "1    <NA>\n",
      "2    True\n",
      "3    <NA>\n",
      "4    True\n",
      "dtype: boolean\n",
      "\n",
      "Series.equals:\n",
      "True\n"
     ]
    }
   ],
   "source": [
    "s1 = pd.Series([\"1\", None, \"3\", None, \"5\"], dtype=\"string\")\n",
    "s2 = pd.Series([\"1\", None, \"3\", None, \"5\"], dtype=\"string\")\n",
    "\n",
    "print(\"Equality operator:\")\n",
    "print(s1 == s2)\n",
    "print()\n",
    "print(\"Series.eq:\")\n",
    "print(pd.Series.eq(s1, s2))\n",
    "print()\n",
    "print(\"Series.equals:\")\n",
    "print(pd.Series.equals(s1, s2))"
   ]
  },
  {
   "cell_type": "markdown",
   "id": "e195dca2",
   "metadata": {},
   "source": [
    "## NaNumber<T>\n",
    "\n",
    "Should we constrain to IBinaryInteger<T> so we do not end up with floating point equality problems?\n",
    "\n",
    "So, `NaInteger<T>`?\n",
    "\n",
    "We could have `NaFloat<T>` that uses `NaN` as `Sentinel`?"
   ]
  }
 ],
 "metadata": {
  "kernelspec": {
   "display_name": "Python 3",
   "language": "python",
   "name": "python3"
  },
  "language_info": {
   "codemirror_mode": {
    "name": "ipython",
    "version": 3
   },
   "file_extension": ".py",
   "mimetype": "text/x-python",
   "name": "python",
   "nbconvert_exporter": "python",
   "pygments_lexer": "ipython3",
   "version": "3.13.3"
  },
  "polyglot_notebook": {
   "kernelInfo": {
    "defaultKernelName": "csharp",
    "items": [
     {
      "aliases": [],
      "name": "csharp"
     }
    ]
   }
  }
 },
 "nbformat": 4,
 "nbformat_minor": 5
}
