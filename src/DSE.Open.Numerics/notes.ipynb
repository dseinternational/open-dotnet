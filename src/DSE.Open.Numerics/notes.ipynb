{
 "cells": [
  {
   "cell_type": "code",
   "execution_count": 1,
   "id": "38ac8d09",
   "metadata": {},
   "outputs": [],
   "source": [
    "import math\n",
    "import pandas as pd\n",
    "import numpy as np\n",
    "import torch"
   ]
  },
  {
   "cell_type": "markdown",
   "id": "b4ce80b7",
   "metadata": {},
   "source": [
    "### Missing data\n",
    "\n",
    "In Pandas, using `NA` for 'missing' gives consistent results, including with strings and data/times.\n",
    "\n",
    "> [The goal of NA is provide a “missing” indicator that can be used consistently across data types (instead of np.nan, None or pd.NaT depending on the data type).](https://pandas.pydata.org/docs/user_guide/missing_data.html#na-semantics)"
   ]
  },
  {
   "cell_type": "code",
   "execution_count": 2,
   "id": "1a423b67",
   "metadata": {},
   "outputs": [
    {
     "name": "stdout",
     "output_type": "stream",
     "text": [
      "Equality operator:\n",
      "0    True\n",
      "1    <NA>\n",
      "2    True\n",
      "3    <NA>\n",
      "4    True\n",
      "dtype: boolean\n",
      "\n",
      "Series.eq:\n",
      "0    True\n",
      "1    <NA>\n",
      "2    True\n",
      "3    <NA>\n",
      "4    True\n",
      "dtype: boolean\n",
      "\n",
      "Series.equals:\n",
      "False\n"
     ]
    }
   ],
   "source": [
    "s1 = pd.Series([\"1\", \"2\", \"3\", None, \"5\"], dtype=\"string\")\n",
    "s2 = pd.Series([\"1\", None, \"3\", None, \"5\"], dtype=\"string\")\n",
    "\n",
    "print(\"Equality operator:\")\n",
    "print(s1 == s2)\n",
    "print()\n",
    "print(\"Series.eq:\")\n",
    "print(pd.Series.eq(s1, s2))\n",
    "print()\n",
    "print(\"Series.equals:\")\n",
    "print(pd.Series.equals(s1, s2))"
   ]
  },
  {
   "cell_type": "markdown",
   "id": "d1f11a51",
   "metadata": {},
   "source": [
    "However, this is not the same as NumPy `nan`, Python floats or `math.nan`:"
   ]
  },
  {
   "cell_type": "code",
   "execution_count": 3,
   "id": "7dce74b7",
   "metadata": {},
   "outputs": [
    {
     "name": "stdout",
     "output_type": "stream",
     "text": [
      "pd.NA == pd.NA <NA>\n",
      "np.nan == np.nan False\n",
      "float('nan') == float('nan') False\n",
      "math.nan == math.nan False\n"
     ]
    }
   ],
   "source": [
    "print(f\"pd.NA == pd.NA {pd.NA == pd.NA}\")\n",
    "print(f\"np.nan == np.nan {np.nan == np.nan}\")\n",
    "print(f\"float('nan') == float('nan') {float('nan') == float('nan')}\")\n",
    "print(f\"math.nan == math.nan {math.nan == math.nan}\")"
   ]
  },
  {
   "cell_type": "markdown",
   "id": "17543561",
   "metadata": {},
   "source": [
    "...nor, .NET `float.NaN` - though this depends on use of operator `==` or `Equals()` (see [Equals method behavior change for NaN](https://learn.microsoft.com/en-us/dotnet/core/compatibility/core-libraries/7.0/equals-nan)):\n",
    "\n",
    "```c#\n",
    "Console.WriteLine($\"float.NaN == float.NaN {float.NaN == float.NaN}\");\n",
    "Console.WriteLine($\"float.NaN.Equals(float.NaN) {float.NaN.Equals(float.NaN)}\");\n",
    "```\n",
    "\n",
    "```\n",
    "float.NaN == float.NaN False\n",
    "```"
   ]
  },
  {
   "cell_type": "code",
   "execution_count": 4,
   "id": "7cc85ecb",
   "metadata": {},
   "outputs": [
    {
     "name": "stdout",
     "output_type": "stream",
     "text": [
      "True\n",
      "False\n"
     ]
    }
   ],
   "source": [
    "print(torch.equal(torch.tensor([1, 2]), torch.tensor([1, 2])))\n",
    "\n",
    "print(torch.equal(torch.tensor([3, torch.nan]), torch.tensor([3, torch.nan])))"
   ]
  },
  {
   "cell_type": "markdown",
   "id": "9b1307c1",
   "metadata": {},
   "source": [
    "With .NET `TensorPrimitives.Sum` - \"If any of the values in the input is equal to <see cref=\"IFloatingPointIeee754{TSelf}.NaN\"/>, the result is also NaN.\"\n",
    "\n",
    "### Pandas Series.equals\n",
    "\n",
    "Returns `true` if the 'same':"
   ]
  },
  {
   "cell_type": "code",
   "execution_count": 5,
   "id": "228d3021",
   "metadata": {},
   "outputs": [
    {
     "name": "stdout",
     "output_type": "stream",
     "text": [
      "Equality operator:\n",
      "0    True\n",
      "1    <NA>\n",
      "2    True\n",
      "3    <NA>\n",
      "4    True\n",
      "dtype: boolean\n",
      "\n",
      "Series.eq:\n",
      "0    True\n",
      "1    <NA>\n",
      "2    True\n",
      "3    <NA>\n",
      "4    True\n",
      "dtype: boolean\n",
      "\n",
      "Series.equals:\n",
      "True\n"
     ]
    }
   ],
   "source": [
    "s1 = pd.Series([\"1\", None, \"3\", None, \"5\"], dtype=\"string\")\n",
    "s2 = pd.Series([\"1\", None, \"3\", None, \"5\"], dtype=\"string\")\n",
    "\n",
    "print(\"Equality operator:\")\n",
    "print(s1 == s2)\n",
    "print()\n",
    "print(\"Series.eq:\")\n",
    "print(pd.Series.eq(s1, s2))\n",
    "print()\n",
    "print(\"Series.equals:\")\n",
    "print(pd.Series.equals(s1, s2))"
   ]
  },
  {
   "cell_type": "markdown",
   "id": "e195dca2",
   "metadata": {},
   "source": [
    "## NaNumber<T>\n",
    "\n",
    "Should we constrain to IBinaryInteger<T> so we do not end up with floating point equality problems?\n",
    "\n",
    "So, `NaInteger<T>`?\n",
    "\n",
    "We could have `NaFloat<T>` that uses `NaN` as `Sentinel`?"
   ]
  },
  {
   "cell_type": "code",
   "execution_count": 6,
   "id": "df659509",
   "metadata": {},
   "outputs": [
    {
     "data": {
      "text/plain": [
       "False"
      ]
     },
     "execution_count": 6,
     "metadata": {},
     "output_type": "execute_result"
    }
   ],
   "source": [
    "a = np.array([1, np.nan])\n",
    "np.array_equal(a, a)"
   ]
  },
  {
   "cell_type": "code",
   "execution_count": 7,
   "id": "c4213d88",
   "metadata": {},
   "outputs": [
    {
     "data": {
      "text/plain": [
       "True"
      ]
     },
     "execution_count": 7,
     "metadata": {},
     "output_type": "execute_result"
    }
   ],
   "source": [
    "a = np.array([])\n",
    "np.array_equal(a, a)"
   ]
  },
  {
   "cell_type": "code",
   "execution_count": 8,
   "id": "03235f12",
   "metadata": {},
   "outputs": [
    {
     "data": {
      "text/plain": [
       "True"
      ]
     },
     "execution_count": 8,
     "metadata": {},
     "output_type": "execute_result"
    }
   ],
   "source": [
    "a = None\n",
    "np.array_equal(a, a)"
   ]
  },
  {
   "cell_type": "code",
   "execution_count": 9,
   "id": "fe6478b4",
   "metadata": {},
   "outputs": [
    {
     "data": {
      "text/plain": [
       "False"
      ]
     },
     "execution_count": 9,
     "metadata": {},
     "output_type": "execute_result"
    }
   ],
   "source": [
    "a = np.array([1, np.nan])\n",
    "b = np.array([1, None])\n",
    "np.array_equal(a, b)"
   ]
  },
  {
   "cell_type": "code",
   "execution_count": 10,
   "id": "4d2ae948",
   "metadata": {},
   "outputs": [
    {
     "name": "stdout",
     "output_type": "stream",
     "text": [
      "Equality operator:\n",
      "Series([], dtype: boolean)\n",
      "\n",
      "Series.eq:\n",
      "Series([], dtype: boolean)\n",
      "\n",
      "Series.equals:\n",
      "True\n"
     ]
    }
   ],
   "source": [
    "s1 = pd.Series([], dtype=\"Float64\")\n",
    "s2 = pd.Series([], dtype=\"Float64\")\n",
    "\n",
    "print(\"Equality operator:\")\n",
    "print(s1 == s2)\n",
    "print()\n",
    "print(\"Series.eq:\")\n",
    "print(pd.Series.eq(s1, s2))\n",
    "print()\n",
    "print(\"Series.equals:\")\n",
    "print(pd.Series.equals(s1, s2))"
   ]
  },
  {
   "cell_type": "code",
   "execution_count": 12,
   "id": "cc09b4ce",
   "metadata": {},
   "outputs": [
    {
     "data": {
      "application/vnd.microsoft.datawrangler.viewer.v0+json": {
       "columns": [
        {
         "name": "index",
         "rawType": "int64",
         "type": "integer"
        },
        {
         "name": "0",
         "rawType": "int64",
         "type": "integer"
        },
        {
         "name": "1",
         "rawType": "int64",
         "type": "integer"
        }
       ],
       "conversionMethod": "pd.DataFrame",
       "ref": "0ab63cec-eb40-4042-846e-693f6f473bc2",
       "rows": [
        [
         "0",
         "1",
         "2"
        ],
        [
         "1",
         "3",
         "4"
        ]
       ],
       "shape": {
        "columns": 2,
        "rows": 2
       }
      },
      "text/html": [
       "<div>\n",
       "<style scoped>\n",
       "    .dataframe tbody tr th:only-of-type {\n",
       "        vertical-align: middle;\n",
       "    }\n",
       "\n",
       "    .dataframe tbody tr th {\n",
       "        vertical-align: top;\n",
       "    }\n",
       "\n",
       "    .dataframe thead th {\n",
       "        text-align: right;\n",
       "    }\n",
       "</style>\n",
       "<table border=\"1\" class=\"dataframe\">\n",
       "  <thead>\n",
       "    <tr style=\"text-align: right;\">\n",
       "      <th></th>\n",
       "      <th>0</th>\n",
       "      <th>1</th>\n",
       "    </tr>\n",
       "  </thead>\n",
       "  <tbody>\n",
       "    <tr>\n",
       "      <th>0</th>\n",
       "      <td>1</td>\n",
       "      <td>2</td>\n",
       "    </tr>\n",
       "    <tr>\n",
       "      <th>1</th>\n",
       "      <td>3</td>\n",
       "      <td>4</td>\n",
       "    </tr>\n",
       "  </tbody>\n",
       "</table>\n",
       "</div>"
      ],
      "text/plain": [
       "   0  1\n",
       "0  1  2\n",
       "1  3  4"
      ]
     },
     "execution_count": 12,
     "metadata": {},
     "output_type": "execute_result"
    }
   ],
   "source": [
    "d = [[1, 2], [3, 4]]\n",
    "df = pd.DataFrame(data=d)\n",
    "df"
   ]
  }
 ],
 "metadata": {
  "kernelspec": {
   "display_name": "Python 3",
   "language": "python",
   "name": "python3"
  },
  "language_info": {
   "codemirror_mode": {
    "name": "ipython",
    "version": 3
   },
   "file_extension": ".py",
   "mimetype": "text/x-python",
   "name": "python",
   "nbconvert_exporter": "python",
   "pygments_lexer": "ipython3",
   "version": "3.13.3"
  },
  "polyglot_notebook": {
   "kernelInfo": {
    "defaultKernelName": "csharp",
    "items": [
     {
      "aliases": [],
      "name": "csharp"
     }
    ]
   }
  }
 },
 "nbformat": 4,
 "nbformat_minor": 5
}
